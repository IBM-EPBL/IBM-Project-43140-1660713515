{
  "metadata": {
    "colab": {
      "provenance": []
    },
    "kernelspec": {
      "name": "python",
      "display_name": "Python (Pyodide)",
      "language": "python"
    },
    "language_info": {
      "codemirror_mode": {
        "name": "python",
        "version": 3
      },
      "file_extension": ".py",
      "mimetype": "text/x-python",
      "name": "python",
      "nbconvert_exporter": "python",
      "pygments_lexer": "ipython3",
      "version": "3.8"
    }
  },
  "nbformat_minor": 4,
  "nbformat": 4,
  "cells": [
    {
      "cell_type": "markdown",
      "source": "## ASSIGNMENT 2 -IBM-Project-43140-1660713515\n## Importing Required Libraries :\n",
      "metadata": {
        "id": "TPrwgRzKrsnK"
      }
    },
    {
      "cell_type": "code",
      "source": "import pandas as pd\nimport matplotlib.pyplot as plt\nimport seaborn as sns\nimport numpy as np\n\nimport warnings\nwarnings.filterwarnings(\"ignore\")",
      "metadata": {
        "id": "B1ygPoZqrhhL",
        "trusted": true
      },
      "execution_count": null,
      "outputs": []
    },
    {
      "cell_type": "markdown",
      "source": "## LOADING THE GIVEN DATASET\n",
      "metadata": {
        "id": "cTtZeXFYrrM0"
      }
    },
    {
      "cell_type": "code",
      "source": "df=pd.read_csv(\"Churn_Modelling.csv\")\ndf.head()",
      "metadata": {
        "colab": {
          "base_uri": "https://localhost:8080/",
          "height": 206
        },
        "id": "UKyX4pRBsAle",
        "outputId": "ed678ea2-df88-4927-841b-e6701c8e0857",
        "trusted": true
      },
      "execution_count": null,
      "outputs": []
    },
    {
      "cell_type": "code",
      "source": "df.info()",
      "metadata": {
        "colab": {
          "base_uri": "https://localhost:8080/"
        },
        "id": "Y8TDJgQYsI0N",
        "outputId": "b30952b8-3b93-4098-ae7f-613390db91b0",
        "trusted": true
      },
      "execution_count": null,
      "outputs": []
    },
    {
      "cell_type": "code",
      "source": "df.shape \n#checking the shape of the dataset",
      "metadata": {
        "colab": {
          "base_uri": "https://localhost:8080/"
        },
        "id": "JCynQHGnsOd-",
        "outputId": "6745ea70-81d8-476f-f0eb-fb1812357eeb",
        "trusted": true
      },
      "execution_count": null,
      "outputs": []
    },
    {
      "cell_type": "markdown",
      "source": "## 1.UNIVARIATE ANALYSIS",
      "metadata": {
        "id": "CVjFFuRXtdrE"
      }
    },
    {
      "cell_type": "code",
      "source": "#Histogram \nsns.histplot(df[\"Age\"],color='purple')",
      "metadata": {
        "colab": {
          "base_uri": "https://localhost:8080/",
          "height": 296
        },
        "id": "uWiDfBg0sTA1",
        "outputId": "efeee4c7-8e1d-48ad-e770-a0bf76cabe03",
        "trusted": true
      },
      "execution_count": null,
      "outputs": []
    },
    {
      "cell_type": "code",
      "source": "#Histogram on Categorical variables\nsns.histplot(x='Age',data=df, hue=df['Tenure'])",
      "metadata": {
        "colab": {
          "base_uri": "https://localhost:8080/",
          "height": 296
        },
        "id": "iTeV-SzSuLtQ",
        "outputId": "fe010a85-802d-4f66-a904-506752630b92",
        "trusted": true
      },
      "execution_count": null,
      "outputs": []
    },
    {
      "cell_type": "code",
      "source": "#Distplot\nsns.displot(df[\"Age\"],color='yellow') ",
      "metadata": {
        "colab": {
          "base_uri": "https://localhost:8080/",
          "height": 386
        },
        "id": "prw2qMI7uwHu",
        "outputId": "a85a965d-3b25-42ea-f432-e08d516a1a52",
        "trusted": true
      },
      "execution_count": null,
      "outputs": []
    },
    {
      "cell_type": "code",
      "source": "#Boxplot\nsns.boxplot(df[\"Age\"],color='red') ",
      "metadata": {
        "colab": {
          "base_uri": "https://localhost:8080/",
          "height": 351
        },
        "id": "O26Bl5MrvRw_",
        "outputId": "695b55a0-a1fa-439f-fb78-b1d10b3d28f2",
        "trusted": true
      },
      "execution_count": null,
      "outputs": []
    },
    {
      "cell_type": "markdown",
      "source": "## 2.BIVARIATE ANALYSIS",
      "metadata": {
        "id": "QbUVwbQ3vtil"
      }
    },
    {
      "cell_type": "code",
      "source": "#Barplot\nsns.barplot(df[\"Tenure\"],df[\"Age\"])",
      "metadata": {
        "colab": {
          "base_uri": "https://localhost:8080/",
          "height": 351
        },
        "id": "kwZX2dfDvllv",
        "outputId": "5d09dc3e-b11e-45b4-d90c-4bebb4daaf43",
        "trusted": true
      },
      "execution_count": null,
      "outputs": []
    },
    {
      "cell_type": "code",
      "source": "#Linearplot\nsns.lineplot(df[\"Age\"],df[\"Tenure\"], color='blue')",
      "metadata": {
        "colab": {
          "base_uri": "https://localhost:8080/",
          "height": 351
        },
        "id": "aJGUmLWzwcmg",
        "outputId": "8cab4290-e7fb-40a2-fe32-27dd78866410",
        "trusted": true
      },
      "execution_count": null,
      "outputs": []
    },
    {
      "cell_type": "code",
      "source": "#Scatterplot\nsns.scatterplot(x=df.Age,y=df.RowNumber,color='green')",
      "metadata": {
        "colab": {
          "base_uri": "https://localhost:8080/",
          "height": 296
        },
        "id": "kMCE8xdPw5am",
        "outputId": "a834998b-4c4a-48cc-eb2d-4fa7d40b317a",
        "trusted": true
      },
      "execution_count": null,
      "outputs": []
    },
    {
      "cell_type": "code",
      "source": "#Regplot\nsns.regplot(df['Age'],df['Tenure'],color='pink') ",
      "metadata": {
        "colab": {
          "base_uri": "https://localhost:8080/",
          "height": 351
        },
        "id": "3hzJBx74xGA3",
        "outputId": "44af6723-992b-406b-b6a2-f4b789053dc6",
        "trusted": true
      },
      "execution_count": null,
      "outputs": []
    },
    {
      "cell_type": "markdown",
      "source": "## 3.MULTIVARIATE ANALYSIS",
      "metadata": {
        "id": "itjSDpXvxasO"
      }
    },
    {
      "cell_type": "code",
      "source": "#Pairplot\nsns.pairplot(data=df[[\"RowNumber\",\"Age\",\"Tenure\",\"Balance\",\"NumOfProducts\"]])",
      "metadata": {
        "colab": {
          "base_uri": "https://localhost:8080/",
          "height": 920
        },
        "id": "kerDUqxBxUj_",
        "outputId": "3433da66-dced-4911-f1bc-7b9dd22b62b7",
        "trusted": true
      },
      "execution_count": null,
      "outputs": []
    },
    {
      "cell_type": "markdown",
      "source": "## 4.PERFORMING DESCRIPTIVE STATISTICS",
      "metadata": {
        "id": "pEGOQQrjx9KU"
      }
    },
    {
      "cell_type": "code",
      "source": "df.describe()",
      "metadata": {
        "colab": {
          "base_uri": "https://localhost:8080/",
          "height": 344
        },
        "id": "8cqUEXsfxmP_",
        "outputId": "e36699c1-d4cc-4f57-bbab-d8852bd74773",
        "trusted": true
      },
      "execution_count": null,
      "outputs": []
    },
    {
      "cell_type": "markdown",
      "source": "## 5.HANDLING MISSING VALUES\n",
      "metadata": {
        "id": "Y3TkUwedyL6N"
      }
    },
    {
      "cell_type": "code",
      "source": "df.isnull().sum()",
      "metadata": {
        "colab": {
          "base_uri": "https://localhost:8080/"
        },
        "id": "axDy-Ou2yIBH",
        "outputId": "67a9bcd7-5dce-4227-8334-a64da3a6a026",
        "trusted": true
      },
      "execution_count": null,
      "outputs": []
    },
    {
      "cell_type": "code",
      "source": "#Since there are no missing values to be found we move on to find the outliers of the dataset",
      "metadata": {
        "id": "DOPjUSz9yVNP",
        "trusted": true
      },
      "execution_count": null,
      "outputs": []
    },
    {
      "cell_type": "markdown",
      "source": "## 6.FIND THE OUTLIERS AND REPLACE THE OUTLIERS",
      "metadata": {
        "id": "suEoKJCMzOAV"
      }
    },
    {
      "cell_type": "code",
      "source": "outliers=df.quantile(q=(0.25,0.75))",
      "metadata": {
        "id": "XkeYIZB7zK0Q",
        "trusted": true
      },
      "execution_count": null,
      "outputs": []
    },
    {
      "cell_type": "code",
      "source": "outliers",
      "metadata": {
        "colab": {
          "base_uri": "https://localhost:8080/",
          "height": 112
        },
        "id": "CSsQ2_8IzT7X",
        "outputId": "079836b9-439c-4afc-be6e-324a4ff35328",
        "trusted": true
      },
      "execution_count": null,
      "outputs": []
    },
    {
      "cell_type": "code",
      "source": "# Finding inter-quartile range\nq1 = df.CreditScore.quantile(0.25)\nq3 = df.CreditScore.quantile(0.75)\nIQR = q3 - q1\nlower_limit = q1 - 1.5 * IQR",
      "metadata": {
        "id": "JRGFqTzKzVyw",
        "trusted": true
      },
      "execution_count": null,
      "outputs": []
    },
    {
      "cell_type": "code",
      "source": "# Median values\ndf.median(numeric_only=True)",
      "metadata": {
        "colab": {
          "base_uri": "https://localhost:8080/"
        },
        "id": "q-39do1rzjfQ",
        "outputId": "2e796475-a27e-4621-936a-46572ee30390",
        "trusted": true
      },
      "execution_count": null,
      "outputs": []
    },
    {
      "cell_type": "code",
      "source": "#Replacing the outliers\ndf['CreditScore'] = np.where(df['CreditScore'] < lower_limit, 7, df['CreditScore'])\nsns.boxplot(x=df.CreditScore)",
      "metadata": {
        "colab": {
          "base_uri": "https://localhost:8080/",
          "height": 296
        },
        "id": "l8VRkxCjAgDU",
        "outputId": "34d526c5-17e1-4d38-c68c-2b66764a0599",
        "trusted": true
      },
      "execution_count": null,
      "outputs": []
    },
    {
      "cell_type": "markdown",
      "source": "## 7.CHECKING FOR CATEGORICAL COLUMNS AND PERFORMING ENCODING.",
      "metadata": {
        "id": "5LhZ51ZtBeq5"
      }
    },
    {
      "cell_type": "code",
      "source": "df.head()\n#Here we can see the presence of categorical columns such as Geography and Gender",
      "metadata": {
        "colab": {
          "base_uri": "https://localhost:8080/",
          "height": 206
        },
        "id": "VP0JBB02ArmF",
        "outputId": "80c13ed5-a3e4-44a9-b091-2d936df92e0c",
        "trusted": true
      },
      "execution_count": null,
      "outputs": []
    },
    {
      "cell_type": "code",
      "source": "#Transforming Categorical columns into numerical values through labelencoding\nfrom sklearn.preprocessing import LabelEncoder\n\nle = LabelEncoder()\ndf.Gender = le.fit_transform(df.Gender)\ndf.Geography = le.fit_transform(df.Geography)\n\ndf.head()",
      "metadata": {
        "colab": {
          "base_uri": "https://localhost:8080/",
          "height": 206
        },
        "id": "2Yoa-Jq6Bwv9",
        "outputId": "2fbe16ce-2ea0-4684-a630-3ce8f1cba232",
        "scrolled": true,
        "trusted": true
      },
      "execution_count": null,
      "outputs": []
    },
    {
      "cell_type": "markdown",
      "source": "## 8.SPLITTING INTO INDEPENDENT(X) AND DEPENDENT(Y) VARIABLE",
      "metadata": {
        "id": "fbDxcfQDCtkc"
      }
    },
    {
      "cell_type": "code",
      "source": "y = df[\"Surname\"]\ny.head()",
      "metadata": {
        "colab": {
          "base_uri": "https://localhost:8080/"
        },
        "id": "QRGIFnrJCHp8",
        "outputId": "da784f2b-49e1-4fb5-a91e-000baad790ae",
        "trusted": true
      },
      "execution_count": null,
      "outputs": []
    },
    {
      "cell_type": "code",
      "source": "x=df.drop(columns=[\"Surname\"],axis=1)\nx.head()",
      "metadata": {
        "colab": {
          "base_uri": "https://localhost:8080/",
          "height": 206
        },
        "id": "cY5UgD4FC2P0",
        "outputId": "fab13c57-4090-482f-bf03-fbb0328cf7af",
        "trusted": true
      },
      "execution_count": null,
      "outputs": []
    },
    {
      "cell_type": "markdown",
      "source": "## 9.SCALING THE INDEPENDENT VARIABLES",
      "metadata": {
        "id": "95GNexqLDAIp"
      }
    },
    {
      "cell_type": "code",
      "source": "from sklearn.preprocessing import scale\n\nX_Scaled = pd.DataFrame(scale(x), columns=x.columns)\nX_Scaled.head()",
      "metadata": {
        "colab": {
          "base_uri": "https://localhost:8080/",
          "height": 250
        },
        "id": "eJiB5JqKC5XN",
        "outputId": "5886b614-e9fd-4844-c4d9-65ae48d0a28e",
        "trusted": true
      },
      "execution_count": null,
      "outputs": []
    },
    {
      "cell_type": "markdown",
      "source": "## 10.TRAINING AND TESTING SPLIT",
      "metadata": {
        "id": "Zl9mMVhrDWk0"
      }
    },
    {
      "cell_type": "code",
      "source": "from sklearn.model_selection import train_test_split\nX_Train, X_Test, Y_Train, Y_Test = train_test_split(X_Scaled, y, test_size=0.2, random_state=0)",
      "metadata": {
        "id": "0pnN2CRxDE3F",
        "trusted": true
      },
      "execution_count": null,
      "outputs": []
    },
    {
      "cell_type": "code",
      "source": "X_Train.shape",
      "metadata": {
        "colab": {
          "base_uri": "https://localhost:8080/"
        },
        "id": "xmFBuCBxDhgW",
        "outputId": "b4318356-d157-4871-fc17-4a61a8b4da7a",
        "trusted": true
      },
      "execution_count": null,
      "outputs": []
    },
    {
      "cell_type": "code",
      "source": "X_Test.shape",
      "metadata": {
        "colab": {
          "base_uri": "https://localhost:8080/"
        },
        "id": "D32EgYM0Dtn-",
        "outputId": "dee1abb9-5c88-454a-d277-58a0a90b5d7f",
        "trusted": true
      },
      "execution_count": null,
      "outputs": []
    },
    {
      "cell_type": "code",
      "source": "Y_Train.shape",
      "metadata": {
        "colab": {
          "base_uri": "https://localhost:8080/"
        },
        "id": "ljnk77OSDwel",
        "outputId": "d6d52ca9-0ada-4dda-e837-9144c51e7ab7",
        "trusted": true
      },
      "execution_count": null,
      "outputs": []
    },
    {
      "cell_type": "code",
      "source": "Y_Test.shape",
      "metadata": {
        "colab": {
          "base_uri": "https://localhost:8080/"
        },
        "id": "HqLP_vedD3n-",
        "outputId": "a9f4d608-04d9-44aa-e66d-b82c8198c272",
        "trusted": true
      },
      "execution_count": null,
      "outputs": []
    },
    {
      "cell_type": "code",
      "source": "X_Train.head()",
      "metadata": {
        "colab": {
          "base_uri": "https://localhost:8080/",
          "height": 250
        },
        "id": "-H1NolPkD5uv",
        "outputId": "898a26d6-5e52-4150-f378-55803f023556",
        "trusted": true
      },
      "execution_count": null,
      "outputs": []
    },
    {
      "cell_type": "code",
      "source": "X_Test.head()",
      "metadata": {
        "colab": {
          "base_uri": "https://localhost:8080/",
          "height": 250
        },
        "id": "6qieHtFwEB8N",
        "outputId": "29b6ce39-0dbf-490e-917d-c55cc0c4af0f",
        "trusted": true
      },
      "execution_count": null,
      "outputs": []
    },
    {
      "cell_type": "code",
      "source": "Y_Train.head()",
      "metadata": {
        "colab": {
          "base_uri": "https://localhost:8080/"
        },
        "id": "W8QadrTGEGS2",
        "outputId": "3e6a5d52-e100-4797-8bf5-c4ddf7169476",
        "trusted": true
      },
      "execution_count": null,
      "outputs": []
    },
    {
      "cell_type": "code",
      "source": "Y_Test.head()",
      "metadata": {
        "colab": {
          "base_uri": "https://localhost:8080/"
        },
        "id": "5y1ueLP-ENIe",
        "outputId": "216fa833-fee1-4b79-b4e1-6aad88482a4c",
        "trusted": true
      },
      "execution_count": null,
      "outputs": []
    },
    {
      "cell_type": "code",
      "source": "",
      "metadata": {
        "id": "NqdsJImmEQ8u"
      },
      "execution_count": null,
      "outputs": []
    }
  ]
}